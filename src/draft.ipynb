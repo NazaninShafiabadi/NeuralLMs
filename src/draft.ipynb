{
 "cells": [
  {
   "cell_type": "code",
   "execution_count": 2,
   "metadata": {},
   "outputs": [],
   "source": [
    "import random\n",
    "import pandas as pd\n",
    "import pickle\n",
    "import torch\n",
    "import torch.nn.functional as F\n",
    "from transformers import AutoTokenizer, AutoModelForMaskedLM"
   ]
  },
  {
   "cell_type": "markdown",
   "metadata": {},
   "source": [
    "### Getting top 5 BERT predictions and probabilities"
   ]
  },
  {
   "cell_type": "code",
   "execution_count": 7,
   "metadata": {},
   "outputs": [],
   "source": [
    "def unmask(tokens, checkpoint, ids=False):\n",
    "    device = torch.device('cuda' if torch.cuda.is_available() else 'cpu')\n",
    "\n",
    "    tokenizer = AutoTokenizer.from_pretrained(checkpoint)\n",
    "    model = AutoModelForMaskedLM.from_pretrained(checkpoint).to(device)\n",
    "\n",
    "    if torch.cuda.device_count() > 1:\n",
    "        model = torch.nn.DataParallel(model)\n",
    "\n",
    "    if ids:\n",
    "        input_ids = torch.tensor(tokens).to(device)\n",
    "    else:\n",
    "        input_ids = tokenizer(tokens, add_special_tokens=False, return_tensors='pt')['input_ids'].to(device)\n",
    "    \n",
    "    masked_idx = torch.where(input_ids == tokenizer.mask_token_id)\n",
    "    masked_idx = masked_idx[1].item()\n",
    "    \n",
    "    model.eval()\n",
    "    with torch.no_grad():\n",
    "        logits = model(input_ids).logits # shape: [1, seq_len, vocab_size]\n",
    "    \n",
    "    probs = F.softmax(logits[0, masked_idx, :], dim=-1) # shape: [vocab_size]\n",
    "    top_ids = torch.argsort(probs, axis=-1, descending=True)[:5]\n",
    "    top_tokens = [tokenizer.convert_ids_to_tokens(id.item()) for id in top_ids]\n",
    "    top_token_probs = probs[top_ids].cpu()\n",
    "\n",
    "    return pd.DataFrame({'Prediction': top_tokens, 'Probability': top_token_probs})"
   ]
  },
  {
   "cell_type": "code",
   "execution_count": 10,
   "metadata": {},
   "outputs": [
    {
     "name": "stdout",
     "output_type": "stream",
     "text": [
      "Masked sentence:\n",
      "the pilots [MASK] tall\n",
      "\n",
      "Training step: 0 (random initialization)\n",
      "Top 5 BERT predictions:\n"
     ]
    },
    {
     "data": {
      "text/html": [
       "<div>\n",
       "<style scoped>\n",
       "    .dataframe tbody tr th:only-of-type {\n",
       "        vertical-align: middle;\n",
       "    }\n",
       "\n",
       "    .dataframe tbody tr th {\n",
       "        vertical-align: top;\n",
       "    }\n",
       "\n",
       "    .dataframe thead th {\n",
       "        text-align: right;\n",
       "    }\n",
       "</style>\n",
       "<table border=\"1\" class=\"dataframe\">\n",
       "  <thead>\n",
       "    <tr style=\"text-align: right;\">\n",
       "      <th></th>\n",
       "      <th>Prediction</th>\n",
       "      <th>Probability</th>\n",
       "    </tr>\n",
       "  </thead>\n",
       "  <tbody>\n",
       "    <tr>\n",
       "      <th>0</th>\n",
       "      <td>upgrades</td>\n",
       "      <td>0.000198</td>\n",
       "    </tr>\n",
       "    <tr>\n",
       "      <th>1</th>\n",
       "      <td>occult</td>\n",
       "      <td>0.000193</td>\n",
       "    </tr>\n",
       "    <tr>\n",
       "      <th>2</th>\n",
       "      <td>minorities</td>\n",
       "      <td>0.000182</td>\n",
       "    </tr>\n",
       "    <tr>\n",
       "      <th>3</th>\n",
       "      <td>jakob</td>\n",
       "      <td>0.000176</td>\n",
       "    </tr>\n",
       "    <tr>\n",
       "      <th>4</th>\n",
       "      <td>misconduct</td>\n",
       "      <td>0.000172</td>\n",
       "    </tr>\n",
       "  </tbody>\n",
       "</table>\n",
       "</div>"
      ],
      "text/plain": [
       "   Prediction  Probability\n",
       "0    upgrades     0.000198\n",
       "1      occult     0.000193\n",
       "2  minorities     0.000182\n",
       "3       jakob     0.000176\n",
       "4  misconduct     0.000172"
      ]
     },
     "execution_count": 10,
     "metadata": {},
     "output_type": "execute_result"
    }
   ],
   "source": [
    "simple_agrmt_results = pd.read_csv('../results/syntax_results/simple_agrmt_results.csv', sep='\\t')\n",
    "sentence = random.choice(simple_agrmt_results['masked_sent'])\n",
    "print('Masked sentence:')\n",
    "print(sentence + '\\n')\n",
    "\n",
    "print('Training step: 0 (random initialization)')\n",
    "print('Top 5 BERT predictions:')\n",
    "unmask(sentence, 'google/multiberts-seed_0-step_0k')"
   ]
  },
  {
   "cell_type": "code",
   "execution_count": 11,
   "metadata": {},
   "outputs": [
    {
     "name": "stdout",
     "output_type": "stream",
     "text": [
      "Training step: 2,000,000 (fully trained model)\n",
      "Top 5 BERT predictions:\n"
     ]
    },
    {
     "data": {
      "text/html": [
       "<div>\n",
       "<style scoped>\n",
       "    .dataframe tbody tr th:only-of-type {\n",
       "        vertical-align: middle;\n",
       "    }\n",
       "\n",
       "    .dataframe tbody tr th {\n",
       "        vertical-align: top;\n",
       "    }\n",
       "\n",
       "    .dataframe thead th {\n",
       "        text-align: right;\n",
       "    }\n",
       "</style>\n",
       "<table border=\"1\" class=\"dataframe\">\n",
       "  <thead>\n",
       "    <tr style=\"text-align: right;\">\n",
       "      <th></th>\n",
       "      <th>Prediction</th>\n",
       "      <th>Probability</th>\n",
       "    </tr>\n",
       "  </thead>\n",
       "  <tbody>\n",
       "    <tr>\n",
       "      <th>0</th>\n",
       "      <td>are</td>\n",
       "      <td>0.137907</td>\n",
       "    </tr>\n",
       "    <tr>\n",
       "      <th>1</th>\n",
       "      <td>:</td>\n",
       "      <td>0.104613</td>\n",
       "    </tr>\n",
       "    <tr>\n",
       "      <th>2</th>\n",
       "      <td>-</td>\n",
       "      <td>0.082343</td>\n",
       "    </tr>\n",
       "    <tr>\n",
       "      <th>3</th>\n",
       "      <td>'</td>\n",
       "      <td>0.046873</td>\n",
       "    </tr>\n",
       "    <tr>\n",
       "      <th>4</th>\n",
       "      <td>very</td>\n",
       "      <td>0.032368</td>\n",
       "    </tr>\n",
       "  </tbody>\n",
       "</table>\n",
       "</div>"
      ],
      "text/plain": [
       "  Prediction  Probability\n",
       "0        are     0.137907\n",
       "1          :     0.104613\n",
       "2          -     0.082343\n",
       "3          '     0.046873\n",
       "4       very     0.032368"
      ]
     },
     "execution_count": 11,
     "metadata": {},
     "output_type": "execute_result"
    }
   ],
   "source": [
    "print('Training step: 2,000,000 (fully trained model)')\n",
    "print('Top 5 BERT predictions:')\n",
    "unmask(sentence, 'google/multiberts-seed_0-step_2000k')"
   ]
  },
  {
   "cell_type": "markdown",
   "metadata": {},
   "source": [
    "### Checking the negative samples"
   ]
  },
  {
   "cell_type": "code",
   "execution_count": 12,
   "metadata": {},
   "outputs": [
    {
     "data": {
      "text/html": [
       "<div>\n",
       "<style scoped>\n",
       "    .dataframe tbody tr th:only-of-type {\n",
       "        vertical-align: middle;\n",
       "    }\n",
       "\n",
       "    .dataframe tbody tr th {\n",
       "        vertical-align: top;\n",
       "    }\n",
       "\n",
       "    .dataframe thead th {\n",
       "        text-align: right;\n",
       "    }\n",
       "</style>\n",
       "<table border=\"1\" class=\"dataframe\">\n",
       "  <thead>\n",
       "    <tr style=\"text-align: right;\">\n",
       "      <th></th>\n",
       "      <th>Token</th>\n",
       "      <th>Token_id</th>\n",
       "      <th>PositiveSamples</th>\n",
       "      <th>NegativeSamples</th>\n",
       "    </tr>\n",
       "  </thead>\n",
       "  <tbody>\n",
       "    <tr>\n",
       "      <th>0</th>\n",
       "      <td>a</td>\n",
       "      <td>1037</td>\n",
       "      <td>[[101, 2728, 8945, 11314, 2121, 2003, 2019, 23...</td>\n",
       "      <td>[[101, 103, 8945, 11314, 2121, 2003, 2019, 239...</td>\n",
       "    </tr>\n",
       "    <tr>\n",
       "      <th>1</th>\n",
       "      <td>by</td>\n",
       "      <td>2011</td>\n",
       "      <td>[[101, 2023, 2001, 2628, 2011, 1037, 4626, 253...</td>\n",
       "      <td>[[101, 2023, 2001, 2628, 2011, 1037, 103, 2535...</td>\n",
       "    </tr>\n",
       "    <tr>\n",
       "      <th>2</th>\n",
       "      <td>constraint</td>\n",
       "      <td>27142</td>\n",
       "      <td>[[101, 10722, 5521, 6563, 3608, 1005, 1055, 37...</td>\n",
       "      <td>[[101, 10722, 5521, 6563, 3608, 1005, 1055, 37...</td>\n",
       "    </tr>\n",
       "    <tr>\n",
       "      <th>3</th>\n",
       "      <td>exploring</td>\n",
       "      <td>11131</td>\n",
       "      <td>[[101, 2122, 2048, 2020, 4699, 1999, 103, 3306...</td>\n",
       "      <td>[[101, 2122, 2048, 2020, 4699, 1999, 11131, 33...</td>\n",
       "    </tr>\n",
       "    <tr>\n",
       "      <th>4</th>\n",
       "      <td>fined</td>\n",
       "      <td>16981</td>\n",
       "      <td>[[101, 2002, 2001, 103, 1002, 1015, 1030, 1010...</td>\n",
       "      <td>[[101, 2002, 2001, 16981, 1002, 1015, 1030, 10...</td>\n",
       "    </tr>\n",
       "    <tr>\n",
       "      <th>5</th>\n",
       "      <td>of</td>\n",
       "      <td>1997</td>\n",
       "      <td>[[101, 1999, 2432, 8945, 11314, 2121, 5565, 10...</td>\n",
       "      <td>[[101, 1999, 2432, 8945, 11314, 2121, 5565, 10...</td>\n",
       "    </tr>\n",
       "    <tr>\n",
       "      <th>6</th>\n",
       "      <td>sob</td>\n",
       "      <td>17540</td>\n",
       "      <td>[[101, 2002, 2001, 3391, 7622, 2011, 1996, 159...</td>\n",
       "      <td>[[101, 2002, 2001, 3391, 7622, 2011, 1996, 159...</td>\n",
       "    </tr>\n",
       "    <tr>\n",
       "      <th>7</th>\n",
       "      <td>the</td>\n",
       "      <td>1996</td>\n",
       "      <td>[[101, 2728, 8945, 11314, 2121, 2003, 2019, 23...</td>\n",
       "      <td>[[101, 2728, 8945, 11314, 2121, 2003, 2019, 23...</td>\n",
       "    </tr>\n",
       "    <tr>\n",
       "      <th>8</th>\n",
       "      <td>variable</td>\n",
       "      <td>8023</td>\n",
       "      <td>[[101, 2520, 5828, 3766, 2764, 2010, 13805, 22...</td>\n",
       "      <td>[[101, 2520, 5828, 3766, 2764, 2010, 13805, 22...</td>\n",
       "    </tr>\n",
       "    <tr>\n",
       "      <th>9</th>\n",
       "      <td>with</td>\n",
       "      <td>2007</td>\n",
       "      <td>[[101, 2002, 2001, 2856, 2011, 2198, 14381, 19...</td>\n",
       "      <td>[[101, 2002, 2001, 2856, 2011, 2198, 14381, 19...</td>\n",
       "    </tr>\n",
       "  </tbody>\n",
       "</table>\n",
       "</div>"
      ],
      "text/plain": [
       "        Token  Token_id                                    PositiveSamples  \\\n",
       "0           a      1037  [[101, 2728, 8945, 11314, 2121, 2003, 2019, 23...   \n",
       "1          by      2011  [[101, 2023, 2001, 2628, 2011, 1037, 4626, 253...   \n",
       "2  constraint     27142  [[101, 10722, 5521, 6563, 3608, 1005, 1055, 37...   \n",
       "3   exploring     11131  [[101, 2122, 2048, 2020, 4699, 1999, 103, 3306...   \n",
       "4       fined     16981  [[101, 2002, 2001, 103, 1002, 1015, 1030, 1010...   \n",
       "5          of      1997  [[101, 1999, 2432, 8945, 11314, 2121, 5565, 10...   \n",
       "6         sob     17540  [[101, 2002, 2001, 3391, 7622, 2011, 1996, 159...   \n",
       "7         the      1996  [[101, 2728, 8945, 11314, 2121, 2003, 2019, 23...   \n",
       "8    variable      8023  [[101, 2520, 5828, 3766, 2764, 2010, 13805, 22...   \n",
       "9        with      2007  [[101, 2002, 2001, 2856, 2011, 2198, 14381, 19...   \n",
       "\n",
       "                                     NegativeSamples  \n",
       "0  [[101, 103, 8945, 11314, 2121, 2003, 2019, 239...  \n",
       "1  [[101, 2023, 2001, 2628, 2011, 1037, 103, 2535...  \n",
       "2  [[101, 10722, 5521, 6563, 3608, 1005, 1055, 37...  \n",
       "3  [[101, 2122, 2048, 2020, 4699, 1999, 11131, 33...  \n",
       "4  [[101, 2002, 2001, 16981, 1002, 1015, 1030, 10...  \n",
       "5  [[101, 1999, 2432, 8945, 11314, 2121, 5565, 10...  \n",
       "6  [[101, 2002, 2001, 3391, 7622, 2011, 1996, 159...  \n",
       "7  [[101, 2728, 8945, 11314, 2121, 2003, 2019, 23...  \n",
       "8  [[101, 2520, 5828, 3766, 2764, 2010, 13805, 22...  \n",
       "9  [[101, 2002, 2001, 2856, 2011, 2198, 14381, 19...  "
      ]
     },
     "execution_count": 12,
     "metadata": {},
     "output_type": "execute_result"
    }
   ],
   "source": [
    "with open('../data/wikitext/neg_sample_sents.pickle', 'rb') as f:\n",
    "    sample_sents = pickle.load(f)\n",
    "\n",
    "sample_sents = pd.DataFrame(sample_sents)\n",
    "sample_sents.columns = ['Token', 'Token_id', 'PositiveSamples', 'NegativeSamples']\n",
    "sample_sents"
   ]
  },
  {
   "cell_type": "code",
   "execution_count": 17,
   "metadata": {},
   "outputs": [
    {
     "data": {
      "text/html": [
       "<div>\n",
       "<style scoped>\n",
       "    .dataframe tbody tr th:only-of-type {\n",
       "        vertical-align: middle;\n",
       "    }\n",
       "\n",
       "    .dataframe tbody tr th {\n",
       "        vertical-align: top;\n",
       "    }\n",
       "\n",
       "    .dataframe thead th {\n",
       "        text-align: right;\n",
       "    }\n",
       "</style>\n",
       "<table border=\"1\" class=\"dataframe\">\n",
       "  <thead>\n",
       "    <tr style=\"text-align: right;\">\n",
       "      <th></th>\n",
       "      <th>Token</th>\n",
       "      <th>Token_id</th>\n",
       "      <th>PositiveSamples</th>\n",
       "      <th>NegativeSamples</th>\n",
       "    </tr>\n",
       "  </thead>\n",
       "  <tbody>\n",
       "    <tr>\n",
       "      <th>8</th>\n",
       "      <td>variable</td>\n",
       "      <td>8023</td>\n",
       "      <td>[[101, 2520, 5828, 3766, 2764, 2010, 13805, 22...</td>\n",
       "      <td>[[101, 2520, 5828, 3766, 2764, 2010, 13805, 22...</td>\n",
       "    </tr>\n",
       "  </tbody>\n",
       "</table>\n",
       "</div>"
      ],
      "text/plain": [
       "      Token  Token_id                                    PositiveSamples  \\\n",
       "8  variable      8023  [[101, 2520, 5828, 3766, 2764, 2010, 13805, 22...   \n",
       "\n",
       "                                     NegativeSamples  \n",
       "8  [[101, 2520, 5828, 3766, 2764, 2010, 13805, 22...  "
      ]
     },
     "execution_count": 17,
     "metadata": {},
     "output_type": "execute_result"
    }
   ],
   "source": [
    "sample_row = sample_sents.sample(1)\n",
    "sample_row"
   ]
  },
  {
   "cell_type": "code",
   "execution_count": 18,
   "metadata": {},
   "outputs": [
    {
     "name": "stdout",
     "output_type": "stream",
     "text": [
      "['[CLS]', 'william', 'carlos', 'williams', 'developed', 'his', 'poetic', 'along', 'distinctly', 'american', 'lines', 'with', 'his', '[MASK]', 'foot', 'and', 'a', 'di', '##ction', 'he', 'claimed', 'was', 'taken', '\"', 'from', 'the', 'mouths', 'of', 'polish', 'mothers', '\"', '.', '[SEP]', 'both', 'pound', 'and', 'h', '.', 'd', '.', 'turned', 'to', 'writing', 'long', 'poems', ',', 'but', 'retained', 'much', 'of', 'the', 'hard', 'edge', 'to', 'their', 'language', 'as', 'an', 'im', '##agi', '##st', 'legacy', '.', '[SEP]']\n",
      "['[CLS]', 'william', 'carlos', 'williams', 'developed', 'his', 'poetic', 'along', 'distinctly', 'american', 'lines', 'with', 'his', 'variable', 'foot', 'and', 'a', 'di', '##ction', '[MASK]', 'claimed', 'was', 'taken', '\"', 'from', 'the', 'mouths', 'of', 'polish', 'mothers', '\"', '.', '[SEP]', 'both', 'pound', 'and', 'h', '.', 'd', '.', 'turned', 'to', 'writing', 'long', 'poems', ',', 'but', 'retained', 'much', 'of', 'the', 'hard', 'edge', 'to', 'their', 'language', 'as', 'an', 'im', '##agi', '##st', 'legacy', '.', '[SEP]']\n"
     ]
    }
   ],
   "source": [
    "tokenizer = AutoTokenizer.from_pretrained('google/multiberts-seed_0')\n",
    "\n",
    "pos_sent_ids = sample_row['PositiveSamples'].tolist()[0][0]\n",
    "neg_sent_ids = sample_row['NegativeSamples'].tolist()[0][0]\n",
    "\n",
    "pos_sent = tokenizer.convert_ids_to_tokens(pos_sent_ids)\n",
    "neg_sent = tokenizer.convert_ids_to_tokens(neg_sent_ids)\n",
    "\n",
    "print(pos_sent)\n",
    "print(neg_sent)"
   ]
  }
 ],
 "metadata": {
  "kernelspec": {
   "display_name": "virtualenv",
   "language": "python",
   "name": "python3"
  },
  "language_info": {
   "codemirror_mode": {
    "name": "ipython",
    "version": 3
   },
   "file_extension": ".py",
   "mimetype": "text/x-python",
   "name": "python",
   "nbconvert_exporter": "python",
   "pygments_lexer": "ipython3",
   "version": "3.10.12"
  }
 },
 "nbformat": 4,
 "nbformat_minor": 2
}
